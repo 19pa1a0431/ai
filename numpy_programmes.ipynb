{
  "nbformat": 4,
  "nbformat_minor": 0,
  "metadata": {
    "colab": {
      "name": "numpy programmes.ipynb",
      "provenance": [],
      "authorship_tag": "ABX9TyPDbb75RYs0oTUX0I4iifj4",
      "include_colab_link": true
    },
    "kernelspec": {
      "name": "python3",
      "display_name": "Python 3"
    }
  },
  "cells": [
    {
      "cell_type": "markdown",
      "metadata": {
        "id": "view-in-github",
        "colab_type": "text"
      },
      "source": [
        "<a href=\"https://colab.research.google.com/github/19pa1a0431/ai/blob/master/numpy_programmes.ipynb\" target=\"_parent\"><img src=\"https://colab.research.google.com/assets/colab-badge.svg\" alt=\"Open In Colab\"/></a>"
      ]
    },
    {
      "cell_type": "code",
      "metadata": {
        "id": "8MAbWO5zzxWv",
        "colab_type": "code",
        "colab": {
          "base_uri": "https://localhost:8080/",
          "height": 34
        },
        "outputId": "cea1a98b-7c8a-4c41-a1df-534c3a7f5d63"
      },
      "source": [
        "a=67\n",
        "b=45\n",
        "if(a>b):\n",
        "  print(a)\n",
        "else:\n",
        "  print(b)  "
      ],
      "execution_count": 3,
      "outputs": [
        {
          "output_type": "stream",
          "text": [
            "67\n"
          ],
          "name": "stdout"
        }
      ]
    },
    {
      "cell_type": "code",
      "metadata": {
        "id": "7h0PmYDC6eY8",
        "colab_type": "code",
        "colab": {
          "base_uri": "https://localhost:8080/",
          "height": 34
        },
        "outputId": "eaa59ec9-4093-4d12-b759-63538fc49624"
      },
      "source": [
        "import numpy as np\n",
        "x=np.array([2,3,4,5])\n",
        "print(x)\n"
      ],
      "execution_count": 6,
      "outputs": [
        {
          "output_type": "stream",
          "text": [
            "[2 3 4 5]\n"
          ],
          "name": "stdout"
        }
      ]
    },
    {
      "cell_type": "code",
      "metadata": {
        "id": "DtZ8HXA68L_e",
        "colab_type": "code",
        "colab": {
          "base_uri": "https://localhost:8080/",
          "height": 34
        },
        "outputId": "39818ef5-d93c-4c88-a3b3-32e3fbc16cac"
      },
      "source": [
        "x=np.array([2,3,'n',5])\n",
        "print(x)"
      ],
      "execution_count": 7,
      "outputs": [
        {
          "output_type": "stream",
          "text": [
            "['2' '3' 'n' '5']\n"
          ],
          "name": "stdout"
        }
      ]
    },
    {
      "cell_type": "code",
      "metadata": {
        "id": "lPbUJtIG8Y2x",
        "colab_type": "code",
        "colab": {
          "base_uri": "https://localhost:8080/",
          "height": 170
        },
        "outputId": "14626d52-dc64-4368-e04b-26696d644473"
      },
      "source": [
        "b=np.linspace(start=1, stop=5 )\n",
        "print(b)"
      ],
      "execution_count": 9,
      "outputs": [
        {
          "output_type": "stream",
          "text": [
            "[1.         1.08163265 1.16326531 1.24489796 1.32653061 1.40816327\n",
            " 1.48979592 1.57142857 1.65306122 1.73469388 1.81632653 1.89795918\n",
            " 1.97959184 2.06122449 2.14285714 2.2244898  2.30612245 2.3877551\n",
            " 2.46938776 2.55102041 2.63265306 2.71428571 2.79591837 2.87755102\n",
            " 2.95918367 3.04081633 3.12244898 3.20408163 3.28571429 3.36734694\n",
            " 3.44897959 3.53061224 3.6122449  3.69387755 3.7755102  3.85714286\n",
            " 3.93877551 4.02040816 4.10204082 4.18367347 4.26530612 4.34693878\n",
            " 4.42857143 4.51020408 4.59183673 4.67346939 4.75510204 4.83673469\n",
            " 4.91836735 5.        ]\n"
          ],
          "name": "stdout"
        }
      ]
    },
    {
      "cell_type": "code",
      "metadata": {
        "id": "VivKllit9alR",
        "colab_type": "code",
        "colab": {
          "base_uri": "https://localhost:8080/",
          "height": 34
        },
        "outputId": "1a5b9ac4-46de-4352-d733-6d66948e6fd6"
      },
      "source": [
        "import numpy as np\n",
        "d=np.arange(start=1,stop=10,step=2)\n",
        "print(d)"
      ],
      "execution_count": 14,
      "outputs": [
        {
          "output_type": "stream",
          "text": [
            "[1 3 5 7 9]\n"
          ],
          "name": "stdout"
        }
      ]
    },
    {
      "cell_type": "code",
      "metadata": {
        "id": "tVBZeXIg-Qaf",
        "colab_type": "code",
        "colab": {
          "base_uri": "https://localhost:8080/",
          "height": 68
        },
        "outputId": "23dd4cff-639f-4f17-fb7d-2c31532e1c46"
      },
      "source": [
        "import numpy as np\n",
        "np.ones((3,4))"
      ],
      "execution_count": 15,
      "outputs": [
        {
          "output_type": "execute_result",
          "data": {
            "text/plain": [
              "array([[1., 1., 1., 1.],\n",
              "       [1., 1., 1., 1.],\n",
              "       [1., 1., 1., 1.]])"
            ]
          },
          "metadata": {
            "tags": []
          },
          "execution_count": 15
        }
      ]
    },
    {
      "cell_type": "code",
      "metadata": {
        "id": "YmiBMGLu-eTz",
        "colab_type": "code",
        "colab": {
          "base_uri": "https://localhost:8080/",
          "height": 68
        },
        "outputId": "48c7494d-55ef-4a81-9f59-66f6a0153362"
      },
      "source": [
        "import numpy as np\n",
        "np.zeros((3,4))"
      ],
      "execution_count": 16,
      "outputs": [
        {
          "output_type": "execute_result",
          "data": {
            "text/plain": [
              "array([[0., 0., 0., 0.],\n",
              "       [0., 0., 0., 0.],\n",
              "       [0., 0., 0., 0.]])"
            ]
          },
          "metadata": {
            "tags": []
          },
          "execution_count": 16
        }
      ]
    },
    {
      "cell_type": "code",
      "metadata": {
        "id": "MpxLGxHw-p1s",
        "colab_type": "code",
        "colab": {
          "base_uri": "https://localhost:8080/",
          "height": 34
        },
        "outputId": "27f2c528-9404-46ee-d1a2-70fa244dbeac"
      },
      "source": [
        "import numpy as np\n",
        "np.random.rand(5) "
      ],
      "execution_count": 17,
      "outputs": [
        {
          "output_type": "execute_result",
          "data": {
            "text/plain": [
              "array([0.30183251, 0.7706032 , 0.66910323, 0.15187017, 0.12095633])"
            ]
          },
          "metadata": {
            "tags": []
          },
          "execution_count": 17
        }
      ]
    },
    {
      "cell_type": "code",
      "metadata": {
        "id": "5dYZa_8m-0k9",
        "colab_type": "code",
        "colab": {
          "base_uri": "https://localhost:8080/",
          "height": 34
        },
        "outputId": "4ff91902-391d-4ab3-c3f3-6c8be7dcf078"
      },
      "source": [
        "import numpy as np\n",
        "np.random.rand(1,2)"
      ],
      "execution_count": 18,
      "outputs": [
        {
          "output_type": "execute_result",
          "data": {
            "text/plain": [
              "array([[0.85593653, 0.48119377]])"
            ]
          },
          "metadata": {
            "tags": []
          },
          "execution_count": 18
        }
      ]
    }
  ]
}